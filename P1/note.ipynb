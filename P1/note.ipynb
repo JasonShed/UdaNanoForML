{
 "cells": [
  {
   "cell_type": "markdown",
   "metadata": {
    "collapsed": true
   },
   "source": [
    "在正态分布中，mode = mean = median \n",
    "### 众数（mode）\n",
    "### 平均数（mean）\n",
    "### 中位数（median）\n",
    "- 奇数（odd）：$$ \\frac{X_{n+1}}{2} $$\n",
    "- 偶数（even）：$$ \\frac{X_{\\frac {n}{2}} + X_{\\frac{n}{2}+1}}{2} $$"
   ]
  },
  {
   "cell_type": "markdown",
   "metadata": {},
   "source": [
    "### IQR（interquartile range）\n",
    "四分位数的间距IQR = Q3 - Q1\n",
    "\n",
    "分位线 | 值\n",
    "--- | ---\n",
    "   | 38946\n",
    "   | 43420\n",
    " Q1 | 49191\n",
    "   | 50430\n",
    "   | 50557\n",
    "   | 52580\n",
    "   | 53595\n",
    " Q3 | 54135\n",
    "   | 60181\n",
    "   | 100000          \n",
    "   \n",
    "缺点：完全不同的两个数据集可以有相同的IQR\n",
    "\n",
    "\n",
    "### 异常值outlier\n",
    "outlier的定义：outlier < Q1 - 1.5(IQR) 或 outlier > Q3 + 1.5(IQR)"
   ]
  },
  {
   "cell_type": "markdown",
   "metadata": {},
   "source": [
    "### 衡量数据差异性的方法\n",
    "平均偏差：计算均值与每个数据值之间的差值，再求这些差值的均值。\n",
    "缺点：未考虑负值\n",
    "$$ \\frac {\\sum(x_i - {\\bar x})}{10} $$\n",
    "\n",
    "绝对偏差\n",
    "$$ \\frac { \\sum|x_i - {\\bar x}| }{10} $$\n",
    "\n",
    "方差(variance) = 平均平方偏差(mean of squared deviations)\n",
    "$$ \\frac { \\sum(x_i - {\\bar x})^2 }{n} $$\n",
    "\n",
    "标准差SD（standard deviation）\n",
    "\n",
    "$$ \\sqrt \\frac { \\sum(x_i - {\\bar x})^2 }{n} $$"
   ]
  },
  {
   "cell_type": "markdown",
   "metadata": {},
   "source": [
    "### 贝塞尔校正系数（Bessel's correction）\n",
    "在计算样本的标准差时使用这个公式，n-1会使分母变小，导致最终样本的标准差偏大，这样才会使样本标准差**更接近于**总体标准差\n",
    "$$ \\sqrt \\frac { \\sum(x_i - {\\bar x})^2 }{ n-1 } $$\n"
   ]
  },
  {
   "cell_type": "code",
   "execution_count": 2,
   "metadata": {},
   "outputs": [
    {
     "name": "stdout",
     "output_type": "stream",
     "text": [
      "3.5\n",
      "3.5\n",
      "1.70782512766\n"
     ]
    }
   ],
   "source": [
    "'''numpy计算均值，中位数，标准差'''\n",
    "import numpy as np\n",
    "\n",
    "num = [1, 2, 3, 4, 5, 6]\n",
    "print np.median(num)\n",
    "print np.mean(num)\n",
    "print np.std(num)"
   ]
  },
  {
   "cell_type": "code",
   "execution_count": 3,
   "metadata": {},
   "outputs": [
    {
     "name": "stdout",
     "output_type": "stream",
     "text": [
      "[[ 1.  2.  3.]\n",
      " [ 4.  5.  6.]]\n",
      "\n",
      "5.0\n",
      "\n",
      "[ 4.  5.  6.]\n",
      "\n",
      "[ 3.  6.]\n"
     ]
    }
   ],
   "source": [
    "two_D_array = np.array([[1, 2, 3], [4, 5, 6]], float)\n",
    "print two_D_array\n",
    "print \"\"\n",
    "print two_D_array[1][1]\n",
    "print \"\"\n",
    "print two_D_array[1, :]\n",
    "print \"\"\n",
    "print two_D_array[:, 2]"
   ]
  },
  {
   "cell_type": "code",
   "execution_count": 1,
   "metadata": {
    "collapsed": true
   },
   "outputs": [],
   "source": [
    "'''numpy.dot()计算每个国家的奖牌得分'''\n",
    "import numpy as np\n",
    "from pandas import DataFrame, Series\n",
    "\n",
    "def numpy_dot():\n",
    "    countries = ['Russian Fed.', 'Norway', 'Canada', 'United States',\n",
    "                 'Netherlands', 'Germany', 'Switzerland', 'Belarus',\n",
    "                 'Austria', 'France', 'Poland', 'China', 'Korea', \n",
    "                 'Sweden', 'Czech Republic', 'Slovenia', 'Japan',\n",
    "                 'Finland', 'Great Britain', 'Ukraine', 'Slovakia',\n",
    "                 'Italy', 'Latvia', 'Australia', 'Croatia', 'Kazakhstan']\n",
    "\n",
    "    gold = [13, 11, 10, 9, 8, 8, 6, 5, 4, 4, 4, 3, 3, 2, 2, 2, 1, 1, 1, 1, 1, 0, 0, 0, 0, 0]\n",
    "    silver = [11, 5, 10, 7, 7, 6, 3, 0, 8, 4, 1, 4, 3, 7, 4, 2, 4, 3, 1, 0, 0, 2, 2, 2, 1, 0]\n",
    "    bronze = [9, 10, 5, 12, 9, 5, 2, 1, 5, 7, 1, 2, 2, 6, 2, 4, 3, 1, 2, 1, 0, 6, 2, 1, 0, 1]\n",
    " \n",
    "    # YOUR CODE HERE\n",
    "    olympic_medal_counts = {'country_name':Series(countries),\n",
    "                            'gold': Series(gold),\n",
    "                            'silver': Series(silver),\n",
    "                            'bronze': Series(bronze) }\n",
    "    df = DataFrame(olympic_medal_counts)\n",
    "    \n",
    "    medal_counts = df[['gold', 'silver', 'bronze']]\n",
    "    points = np.dot(medal_counts, [4,2,1])\n",
    "    temp = {'country_name': Series(countries), 'points':Series(points)}\n",
    "    olympic_points_df = DataFrame(temp)\n",
    "    return olympic_points_df\n",
    "\n",
    "#re = numpy_dot()\n",
    "#print re"
   ]
  },
  {
   "cell_type": "code",
   "execution_count": 2,
   "metadata": {},
   "outputs": [
    {
     "name": "stdout",
     "output_type": "stream",
     "text": [
      "losses     int64\n",
      "team      object\n",
      "wins       int64\n",
      "year       int64\n",
      "dtype: object\n",
      "\n",
      "          losses       wins         year\n",
      "count   8.000000   8.000000     8.000000\n",
      "mean    6.625000   9.375000  2011.125000\n",
      "std     3.377975   3.377975     0.834523\n",
      "min     1.000000   4.000000  2010.000000\n",
      "25%     5.000000   7.500000  2010.750000\n",
      "50%     6.000000  10.000000  2011.000000\n",
      "75%     8.500000  11.000000  2012.000000\n",
      "max    12.000000  15.000000  2012.000000\n",
      "\n",
      "   losses     team  wins  year\n",
      "0       5    Bears    11  2010\n",
      "1       8    Bears     8  2011\n",
      "2       6    Bears    10  2012\n",
      "3       1  Packers    15  2011\n",
      "4       5  Packers    11  2012\n",
      "\n",
      "   losses     team  wins  year\n",
      "3       1  Packers    15  2011\n",
      "4       5  Packers    11  2012\n",
      "5      10    Lions     6  2010\n",
      "6       6    Lions    10  2011\n",
      "7      12    Lions     4  2012\n",
      "\n",
      "0     True\n",
      "1    False\n",
      "2     True\n",
      "3     True\n",
      "4     True\n",
      "5    False\n",
      "6     True\n",
      "7    False\n",
      "Name: wins, dtype: bool\n"
     ]
    }
   ],
   "source": [
    "import pandas as pd\n",
    "data = {'year': [2010, 2011, 2012, 2011, 2012, 2010, 2011, 2012],\n",
    "        'team': ['Bears', 'Bears', 'Bears', 'Packers', 'Packers', 'Lions', 'Lions', 'Lions'],\n",
    "        'wins': [11, 8, 10, 15, 11, 6, 10, 4],\n",
    "        'losses': [5, 8, 6, 1, 5, 10, 6, 12]}\n",
    "football = pd.DataFrame(data)\n",
    "print football.dtypes\n",
    "print \"\"\n",
    "print football.describe()\n",
    "print \"\"\n",
    "print football.head()\n",
    "print \"\"\n",
    "print football.tail()\n",
    "print \"\"\n",
    "print football['wins'] > 9"
   ]
  },
  {
   "cell_type": "code",
   "execution_count": 28,
   "metadata": {},
   "outputs": [
    {
     "name": "stdout",
     "output_type": "stream",
     "text": [
      "   losses     team  wins  year\n",
      "0       5    Bears    11  2010\n",
      "1       8    Bears     8  2011\n",
      "2       6    Bears    10  2012\n",
      "3       1  Packers    15  2011\n",
      "4       5  Packers    11  2012\n",
      "5      10    Lions     6  2010\n",
      "6       6    Lions    10  2011\n",
      "7      12    Lions     4  2012\n",
      "按行选取数据\n",
      "   losses   team  wins  year\n",
      "0       5  Bears    11  2010\n",
      "   losses   team  wins  year\n",
      "0       5  Bears    11  2010\n",
      "按列选取数据\n",
      "0      Bears\n",
      "1      Bears\n",
      "2      Bears\n",
      "3    Packers\n",
      "4    Packers\n",
      "5      Lions\n",
      "6      Lions\n",
      "7      Lions\n",
      "Name: team, dtype: object\n",
      "0      Bears\n",
      "1      Bears\n",
      "2      Bears\n",
      "3    Packers\n",
      "4    Packers\n",
      "5      Lions\n",
      "6      Lions\n",
      "7      Lions\n",
      "Name: team, dtype: object\n",
      "\n",
      "   losses     team  wins  year\n",
      "3       1  Packers    15  2011\n",
      "4       5  Packers    11  2012\n",
      "\n",
      "   losses     team  wins  year\n",
      "3       1  Packers    15  2011\n",
      "4       5  Packers    11  2012\n"
     ]
    }
   ],
   "source": [
    "data = {'year': [2010, 2011, 2012, 2011, 2012, 2010, 2011, 2012],\n",
    "            'team': ['Bears', 'Bears', 'Bears', 'Packers', 'Packers', 'Lions',\n",
    "                     'Lions', 'Lions'],\n",
    "            'wins': [11, 8, 10, 15, 11, 6, 10, 4],\n",
    "            'losses': [5, 8, 6, 1, 5, 10, 6, 12]}\n",
    "football = pd.DataFrame(data)\n",
    "print football\n",
    "print \"按行选取数据\"\n",
    "print football.iloc[[0]]\n",
    "print football.loc[[0]]\n",
    "print \"按列选取数据\"\n",
    "print football.team\n",
    "print football['team']\n",
    "print \"\"\n",
    "print football[3:5]\n",
    "print \"\"\n",
    "print football[(football.wins > 10) & (football.team == \"Packers\")]"
   ]
  },
  {
   "cell_type": "code",
   "execution_count": 3,
   "metadata": {},
   "outputs": [
    {
     "name": "stdout",
     "output_type": "stream",
     "text": [
      "   one  two\n",
      "a  1.0    1\n",
      "b  2.0    2\n",
      "c  3.0    3\n",
      "d  NaN    4\n",
      "one    2.0\n",
      "two    2.5\n",
      "dtype: float64\n",
      "\n",
      "a    False\n",
      "b    False\n",
      "c     True\n",
      "d     True\n",
      "Name: two, dtype: bool\n",
      "\n",
      "     one    two\n",
      "a  False  False\n",
      "b  False  False\n",
      "c   True   True\n",
      "d  False   True\n"
     ]
    }
   ],
   "source": [
    "'''DataFrame.apply()'''\n",
    "d = {'one': Series([1, 2, 3], index = ['a', 'b', 'c']),\n",
    "     'two': Series([1, 2, 3, 4], index=['a', 'b', 'c', 'd'])}\n",
    "df = DataFrame(d)\n",
    "print df\n",
    "print df.apply(np.mean)\n",
    "print \"\"\n",
    "print df['two'].map(lambda x: x>2)\n",
    "print \"\"\n",
    "print df.applymap(lambda x:x>2)"
   ]
  },
  {
   "cell_type": "code",
   "execution_count": 4,
   "metadata": {
    "collapsed": true
   },
   "outputs": [],
   "source": [
    "'''计算平均奖牌数'''\n",
    "from pandas import DataFrame, Series\n",
    "\n",
    "def create_dataframe():\n",
    "    countries = ['Russian Fed.', 'Norway', 'Canada', 'United States',\n",
    "                 'Netherlands', 'Germany', 'Switzerland', 'Belarus',\n",
    "                 'Austria', 'France', 'Poland', 'China', 'Korea', \n",
    "                 'Sweden', 'Czech Republic', 'Slovenia', 'Japan',\n",
    "                 'Finland', 'Great Britain', 'Ukraine', 'Slovakia',\n",
    "                 'Italy', 'Latvia', 'Australia', 'Croatia', 'Kazakhstan']\n",
    "\n",
    "    gold = [13, 11, 10, 9, 8, 8, 6, 5, 4, 4, 4, 3, 3, 2, 2, 2, 1, 1, 1, 1, 1, 0, 0, 0, 0, 0]\n",
    "    silver = [11, 5, 10, 7, 7, 6, 3, 0, 8, 4, 1, 4, 3, 7, 4, 2, 4, 3, 1, 0, 0, 2, 2, 2, 1, 0]\n",
    "    bronze = [9, 10, 5, 12, 9, 5, 2, 1, 5, 7, 1, 2, 2, 6, 2, 4, 3, 1, 2, 1, 0, 6, 2, 1, 0, 1]\n",
    "\n",
    "    data = DataFrame({ 'countries':countries, 'gold':gold, 'silver':silver, 'bronze':bronze })\n",
    "    olympic_medal_counts_df = sum(data['gold']) / len(data['gold'])\n",
    "    return olympic_medal_counts_df"
   ]
  },
  {
   "cell_type": "code",
   "execution_count": 5,
   "metadata": {
    "collapsed": true
   },
   "outputs": [],
   "source": [
    "'''计算金牌数大于等于1的国家的铜牌平均数'''\n",
    "from pandas import DataFrame, Series\n",
    "import numpy as np\n",
    "\n",
    "def avg_medal_count():\n",
    "    countries = ['Russian Fed.', 'Norway', 'Canada', 'United States',\n",
    "                 'Netherlands', 'Germany', 'Switzerland', 'Belarus',\n",
    "                 'Austria', 'France', 'Poland', 'China', 'Korea', \n",
    "                 'Sweden', 'Czech Republic', 'Slovenia', 'Japan',\n",
    "                 'Finland', 'Great Britain', 'Ukraine', 'Slovakia',\n",
    "                 'Italy', 'Latvia', 'Australia', 'Croatia', 'Kazakhstan']\n",
    "\n",
    "    gold = [13, 11, 10, 9, 8, 8, 6, 5, 4, 4, 4, 3, 3, 2, 2, 2, 1, 1, 1, 1, 1, 0, 0, 0, 0, 0]\n",
    "    silver = [11, 5, 10, 7, 7, 6, 3, 0, 8, 4, 1, 4, 3, 7, 4, 2, 4, 3, 1, 0, 0, 2, 2, 2, 1, 0]\n",
    "    bronze = [9, 10, 5, 12, 9, 5, 2, 1, 5, 7, 1, 2, 2, 6, 2, 4, 3, 1, 2, 1, 0, 6, 2, 1, 0, 1]\n",
    "    \n",
    "    olympic_medal_counts = {'country_name':Series(countries),\n",
    "                            'gold': Series(gold),\n",
    "                            'silver': Series(silver),\n",
    "                            'bronze': Series(bronze)}\n",
    "    df = DataFrame(olympic_medal_counts)\n",
    "    \n",
    "    avg_bronze_at_least_one_gold = np.mean(df[df['gold'] >= 1]['bronze'])\n",
    "    return avg_bronze_at_least_one_gold"
   ]
  },
  {
   "cell_type": "code",
   "execution_count": 64,
   "metadata": {},
   "outputs": [
    {
     "name": "stdout",
     "output_type": "stream",
     "text": [
      "gold      3.807692\n",
      "silver    3.730769\n",
      "bronze    3.807692\n",
      "dtype: float64\n"
     ]
    }
   ],
   "source": [
    "'''计算总奖牌数大于等于1的国家中，3种奖牌的平均值'''\n",
    "import numpy as np\n",
    "from pandas import DataFrame, Series\n",
    "\n",
    "def avg_medal_count():\n",
    "    countries = ['Russian Fed.', 'Norway', 'Canada', 'United States',\n",
    "                 'Netherlands', 'Germany', 'Switzerland', 'Belarus',\n",
    "                 'Austria', 'France', 'Poland', 'China', 'Korea', \n",
    "                 'Sweden', 'Czech Republic', 'Slovenia', 'Japan',\n",
    "                 'Finland', 'Great Britain', 'Ukraine', 'Slovakia',\n",
    "                 'Italy', 'Latvia', 'Australia', 'Croatia', 'Kazakhstan']\n",
    "\n",
    "    gold = [13, 11, 10, 9, 8, 8, 6, 5, 4, 4, 4, 3, 3, 2, 2, 2, 1, 1, 1, 1, 1, 0, 0, 0, 0, 0]\n",
    "    silver = [11, 5, 10, 7, 7, 6, 3, 0, 8, 4, 1, 4, 3, 7, 4, 2, 4, 3, 1, 0, 0, 2, 2, 2, 1, 0]\n",
    "    bronze = [9, 10, 5, 12, 9, 5, 2, 1, 5, 7, 1, 2, 2, 6, 2, 4, 3, 1, 2, 1, 0, 6, 2, 1, 0, 1]\n",
    "    \n",
    "    olympic_medal_counts = {'country_name':countries,\n",
    "                            'gold': Series(gold),\n",
    "                            'silver': Series(silver),\n",
    "                            'bronze': Series(bronze)}    \n",
    "    df = DataFrame(olympic_medal_counts)\n",
    "\n",
    "    avg_medal_count = df[['gold', 'silver', 'bronze']].apply(np.mean)\n",
    "    \n",
    "    return avg_medal_count\n",
    "\n",
    "result = avg_medal_count()\n",
    "print result"
   ]
  },
  {
   "cell_type": "markdown",
   "metadata": {},
   "source": [
    "### 数值类型\n",
    "- 数值型\n",
    "- 分类型\n",
    "- 时间序列型\n",
    "\n",
    "把该类型数据当作分类或数值数据。建模的时候一定不能使用未来的数据"
   ]
  },
  {
   "cell_type": "code",
   "execution_count": 91,
   "metadata": {
    "collapsed": true
   },
   "outputs": [],
   "source": [
    "'''对于类别型数据，标准做法是one-hot encoding，将类别转换为数字数据，在sklearn中有内建方法'''\n",
    "import numpy as np\n",
    "import pandas as pd\n",
    "\n",
    "X = pd.read_csv('titanic_data.csv')\n",
    "X = X.select_dtypes(include=[object]) #选择类别型数据\n",
    "\n",
    "from sklearn.preprocessing import LabelEncoder\n",
    "from sklearn.preprocessing import OneHotEncoder\n",
    "\n",
    "le = LabelEncoder()\n",
    "for feature in X:\n",
    "    X[feature] = le.fit_transform(X[feature])\n",
    "\n",
    "ohe = OneHotEncoder()\n",
    "\n",
    "xt = ohe.fit_transform(X)\n",
    "onehotlabels = xt"
   ]
  },
  {
   "cell_type": "markdown",
   "metadata": {},
   "source": [
    "### POI（person of interest）\n",
    "\n",
    "### 安然事件（Enron story）\n",
    "美国历史上最大的公司欺诈案例。下面记录wikipedia上纪录片[《Enron: The Smartest Guys in the Room》](https://en.wikipedia.org/wiki/Enron:_The_Smartest_Guys_in_the_Room)\n"
   ]
  },
  {
   "cell_type": "code",
   "execution_count": 3,
   "metadata": {},
   "outputs": [
    {
     "name": "stdout",
     "output_type": "stream",
     "text": [
      "{'salary': 1111258, 'to_messages': 3627, 'deferral_payments': 'NaN', 'total_payments': 8682716, 'exercised_stock_options': 19250000, 'bonus': 5600000, 'restricted_stock': 6843672, 'shared_receipt_with_poi': 2042, 'restricted_stock_deferred': 'NaN', 'total_stock_value': 26093672, 'expenses': 29336, 'loan_advances': 'NaN', 'from_messages': 108, 'other': 22122, 'from_this_person_to_poi': 30, 'poi': True, 'director_fees': 'NaN', 'deferred_income': 'NaN', 'long_term_incentive': 1920000, 'email_address': 'jeff.skilling@enron.com', 'from_poi_to_this_person': 88}\n"
     ]
    }
   ],
   "source": [
    "'''数据集中个人的数据类型'''\n",
    "import pickle\n",
    "enron_data = pickle.load(open(\"final_project_dataset.pkl\", \"r\"))\n",
    "print enron_data['SKILLING JEFFREY K']"
   ]
  },
  {
   "cell_type": "code",
   "execution_count": 1,
   "metadata": {},
   "outputs": [
    {
     "name": "stdout",
     "output_type": "stream",
     "text": [
      "8682716\n",
      "103559793\n",
      "2424083\n"
     ]
    }
   ],
   "source": [
    "'''分别计算3个人获得的赃款'''\n",
    "import pickle\n",
    "enron_data = pickle.load(open(\"final_project_dataset.pkl\", \"r\"))\n",
    "\n",
    "print enron_data['SKILLING JEFFREY K']['total_payments']\n",
    "print enron_data['LAY KENNETH L']['total_payments']\n",
    "print enron_data['FASTOW ANDREW S']['total_payments']"
   ]
  },
  {
   "cell_type": "code",
   "execution_count": 4,
   "metadata": {},
   "outputs": [
    {
     "name": "stdout",
     "output_type": "stream",
     "text": [
      "21\n",
      "146\n"
     ]
    }
   ],
   "source": [
    "'''计算数据集中有多少人的薪酬总额被设置了“NaN”？数据集中这些人的比例占多少？'''\n",
    "import pickle\n",
    "enron_data = pickle.load(open(\"D:/Code/ud120-projects-master/final_project/final_project_dataset.pkl\", \"r\"))\n",
    "\n",
    "count = 0\n",
    "for p in enron_data:\n",
    "    if isinstance(enron_data[p]['total_payments'], str):\n",
    "        count += 1\n",
    "\n",
    "print count\n",
    "print len(enron_data)"
   ]
  },
  {
   "cell_type": "markdown",
   "metadata": {},
   "source": [
    "### 分类指标\n",
    "- 准确率\n",
    "- 精确率\n",
    "- 召回率（查全率）\n",
    "- F1\n"
   ]
  },
  {
   "cell_type": "code",
   "execution_count": 6,
   "metadata": {},
   "outputs": [
    {
     "name": "stdout",
     "output_type": "stream",
     "text": [
      "0.5\n",
      "2\n"
     ]
    }
   ],
   "source": [
    "'''准确率'''\n",
    "import numpy as np\n",
    "from sklearn.metrics import accuracy_score\n",
    "y_pred = [0, 2, 1, 3]\n",
    "y_true = [0, 1, 2, 3]\n",
    "print accuracy_score(y_true, y_pred)\n",
    "'''normalize默认为True，return正确样本所占的百分比'''\n",
    "print accuracy_score(y_true, y_pred, normalize=False) "
   ]
  },
  {
   "cell_type": "markdown",
   "metadata": {},
   "source": [
    "精确率和召回率是一对矛盾的度量，其中一个值高时另一个值肯定低。\n",
    "\n",
    "$$ \\text 精确率 = \\frac {TP}{TP + FP} = \\frac{\\text #预测正确的数量}{\\text #预测的结果数量} $$\n",
    "\n",
    "$$ \\text 召回率 = \\frac {TP}{TP + FN} = \\frac{\\text #预测正确的数量}{\\text #正确的样本数} $$\n",
    "\n",
    "F1可以理解为精确率和召回率的加权平均，最佳值为1，最差值为0\n",
    "$$ \\frac {2 * (\\text 精确率*召回率)}{\\text 精确率 + 召回率} $$"
   ]
  },
  {
   "cell_type": "markdown",
   "metadata": {},
   "source": [
    "### 回归指标\n",
    "- 平均绝对误差（MAE：mean absolute error）\n",
    "- 均方误差（MSE：mean square error）"
   ]
  },
  {
   "cell_type": "code",
   "execution_count": 8,
   "metadata": {},
   "outputs": [
    {
     "name": "stdout",
     "output_type": "stream",
     "text": [
      "0.75\n"
     ]
    }
   ],
   "source": [
    "'''MAE：计算预测结果和真正结果数据之间的绝对误差，然后求和最后除以数据数量'''\n",
    "from sklearn.metrics import mean_absolute_error\n",
    "y_true = [[0.5, 1], [-1, 1], [7, -6]]\n",
    "y_pred = [[0, 2], [-1, 2], [8, -5]]\n",
    "print mean_absolute_error(y_true, y_pred)\n",
    "# 绝对误差=4.5，共6个数据点"
   ]
  },
  {
   "cell_type": "code",
   "execution_count": 9,
   "metadata": {},
   "outputs": [
    {
     "data": {
      "text/plain": [
       "0.375"
      ]
     },
     "execution_count": 9,
     "metadata": {},
     "output_type": "execute_result"
    }
   ],
   "source": [
    "'''MSE：残差（预测值与真实值的差值）被求平方，再除以数据数量'''\n",
    "from sklearn.metrics import mean_squared_error\n",
    "y_true = [3, -0.5, 2, 7]\n",
    "y_pred = [2.5, 0.0, 2, 8]\n",
    "mean_squared_error(y_true, y_pred)"
   ]
  },
  {
   "cell_type": "markdown",
   "metadata": {},
   "source": [
    "### 2种回归分数函数\n",
    "- $ R^2 $分数\n",
    "- 可释方差分数"
   ]
  },
  {
   "cell_type": "code",
   "execution_count": 1,
   "metadata": {},
   "outputs": [
    {
     "name": "stdout",
     "output_type": "stream",
     "text": [
      "0.948608137045\n"
     ]
    }
   ],
   "source": [
    "'''R^2'''\n",
    "from sklearn.metrics import r2_score\n",
    "y_true = [3, -0.5, 2, 7]\n",
    "y_pred = [2.5, 0.0, 2, 8]\n",
    "print r2_score(y_true, y_pred)  "
   ]
  },
  {
   "cell_type": "code",
   "execution_count": 11,
   "metadata": {},
   "outputs": [
    {
     "name": "stdout",
     "output_type": "stream",
     "text": [
      "0.957173447537\n"
     ]
    }
   ],
   "source": [
    "'''可释方差'''\n",
    "from sklearn.metrics import explained_variance_score\n",
    "y_true = [3, -0.5, 2, 7]\n",
    "y_pred = [2.5, 0.0, 2, 8]\n",
    "print explained_variance_score(y_true, y_pred)  "
   ]
  },
  {
   "cell_type": "markdown",
   "metadata": {},
   "source": [
    "### 误差的原因\n",
    "- 偏差（bias）:因模型无法表示基本数据的复杂度，造成欠拟合（underfitting）\n",
    "\n",
    "在训练集上存在很高的误差，意味着很低R^2值，很高的SSE（sum of squared error）\n",
    "- 方差（variance）:因模型对训练它所用的有限数据过度敏感，造成过拟合（overfitting）\n",
    "\n",
    "在训练集上有很高的拟合度，在测试集上训练结果不佳"
   ]
  },
  {
   "cell_type": "code",
   "execution_count": 3,
   "metadata": {
    "collapsed": true
   },
   "outputs": [],
   "source": [
    "# In this exercise we'll examine a learner which has high variance, and tries to learn nonexistant patterns in the data.\n",
    "# Use the learning curve function from sklearn.learning_curve to plot learning curves of both training and testing error.\n",
    "# CODE YOU HAVE TO TYPE IN IS IN LINE 35\n",
    "\n",
    "from sklearn.tree import DecisionTreeRegressor\n",
    "import matplotlib.pyplot as plt\n",
    "\n",
    "from sklearn.model_selection import learning_curve \n",
    "from sklearn.model_selection import KFold\n",
    "from sklearn.metrics import explained_variance_score, make_scorer\n",
    "import numpy as np\n",
    "\n",
    "# Set the learning curve parameters; you'll need this for learning_curves\n",
    "size = 1000\n",
    "cv = KFold(size,shuffle=True)\n",
    "score = make_scorer(explained_variance_score)\n",
    "\n",
    "# Create a series of data that forces a learner to have high variance\n",
    "X = np.round(np.reshape(np.random.normal(scale=5,size=2*size),(-1,2)),2)\n",
    "y = np.array([[np.sin(x[0] + np.sin(x[1]))] for x in X])\n",
    "\n",
    "def plot_curve():\n",
    "    reg = DecisionTreeRegressor()\n",
    "    reg.fit(X,y)\n",
    "    print \"Regressor score: {:.4f}\".format(reg.score(X,y))\n",
    "    \n",
    "    # TODO: Use learning_curve imported above to create learning curves for both the\n",
    "    #       training data and testing data. You'll need reg, X, y, cv and score from above.\n",
    "    \n",
    "    train_sizes, train_scores, test_scores = learning_curve(reg, X, y, cv=cv, scoring=score)\n",
    "    \n",
    "    # Taking the mean of the test and training scores\n",
    "    train_scores_mean = np.mean(train_scores,axis=1)\n",
    "    test_scores_mean = np.mean(test_scores,axis=1)\n",
    "    \n",
    "    # Plotting the training curves and the testing curves using train_scores_mean and test_scores_mean \n",
    "    plt.plot(train_sizes ,train_scores_mean,'-o',color='b',label=\"train_scores_mean\")\n",
    "    plt.plot(train_sizes,test_scores_mean ,'-o',color='r',label=\"test_scores_mean\")\n",
    "    \n",
    "    # Plot aesthetics\n",
    "    plt.ylim(-0.1, 1.1)\n",
    "    plt.ylabel(\"Curve Score\")\n",
    "    plt.xlabel(\"Training Points\")\n",
    "    plt.legend(bbox_to_anchor=(1.1, 1.1))\n",
    "    plt.show()"
   ]
  },
  {
   "cell_type": "markdown",
   "metadata": {},
   "source": [
    "http://scott.fortmann-roe.com/docs/BiasVariance.html"
   ]
  },
  {
   "cell_type": "markdown",
   "metadata": {
    "collapsed": true
   },
   "source": [
    "### K折交叉验证（K-fold cross validation）\n",
    "[sklearn中的KFold](http://scikit-learn.org/stable/modules/generated/sklearn.model_selection.KFold.html#sklearn.model_selection.KFold)\n",
    "将数据集划分成相同大小的K部分（默认是连续的数据块），然后进行K次单独的交叉验证试验，每一个数据块都得做一次测试集。"
   ]
  },
  {
   "cell_type": "markdown",
   "metadata": {},
   "source": [
    "### 网格搜索法（GridSearch）\n",
    "[sklearn中的GridSearchCV()](http://scikit-learn.org/stable/modules/generated/sklearn.model_selection.GridSearchCV.html#sklearn.model_selection.GridSearchCV)"
   ]
  },
  {
   "cell_type": "code",
   "execution_count": 7,
   "metadata": {},
   "outputs": [
    {
     "name": "stdout",
     "output_type": "stream",
     "text": [
      "GridSearchCV(cv=None, error_score='raise',\n",
      "       estimator=SVC(C=1.0, cache_size=200, class_weight=None, coef0=0.0,\n",
      "  decision_function_shape=None, degree=3, gamma='auto', kernel='rbf',\n",
      "  max_iter=-1, probability=False, random_state=None, shrinking=True,\n",
      "  tol=0.001, verbose=False),\n",
      "       fit_params={}, iid=True, n_jobs=1,\n",
      "       param_grid={'kernel': ('linear', 'rbf'), 'C': [1, 10]},\n",
      "       pre_dispatch='2*n_jobs', refit=True, return_train_score=True,\n",
      "       scoring=None, verbose=0)\n",
      "\n",
      "['std_train_score', 'rank_test_score', 'mean_score_time', 'std_test_score', 'split1_train_score', 'split0_test_score', 'mean_test_score', 'split2_train_score', 'param_C', 'split0_train_score', 'params', 'std_fit_time', 'std_score_time', 'split2_test_score', 'mean_train_score', 'mean_fit_time', 'param_kernel', 'split1_test_score']\n",
      "[('std_train_score', array([ 0.00824863,  0.01254825,  0.01649726,  0.01649726])), ('rank_test_score', array([1, 3, 3, 1])), ('mean_score_time', array([ 0.00033339,  0.00066662,  0.00033339,  0.00099993])), ('std_test_score', array([ 0.01617914,  0.00902067,  0.03715363,  0.01592466])), ('split1_train_score', array([ 1.,  1.,  1.,  1.])), ('split0_test_score', array([ 1.        ,  0.98039216,  1.        ,  0.98039216])), ('mean_test_score', array([ 0.98      ,  0.97333333,  0.97333333,  0.98      ])), ('split2_train_score', array([ 0.99019608,  0.98039216,  0.98039216,  0.98039216])), ('param_C', masked_array(data = [1 1 10 10],\n",
      "             mask = [False False False False],\n",
      "       fill_value = ?)\n",
      "), ('split0_train_score', array([ 0.97979798,  0.96969697,  0.95959596,  0.95959596])), ('params', ({'kernel': 'linear', 'C': 1}, {'kernel': 'rbf', 'C': 1}, {'kernel': 'linear', 'C': 10}, {'kernel': 'rbf', 'C': 10})), ('std_fit_time', array([  4.71314168e-04,   1.12391596e-07,   4.71482745e-04,\n",
      "         1.24731989e-03])), ('std_score_time', array([ 0.00047148,  0.00047137,  0.00047148,  0.        ])), ('split2_test_score', array([ 0.97916667,  0.97916667,  1.        ,  1.        ])), ('mean_train_score', array([ 0.98999802,  0.98336304,  0.97999604,  0.97999604])), ('mean_fit_time', array([ 0.00133332,  0.00100001,  0.00066678,  0.0023334 ])), ('param_kernel', masked_array(data = ['linear' 'rbf' 'linear' 'rbf'],\n",
      "             mask = [False False False False],\n",
      "       fill_value = ?)\n",
      "), ('split1_test_score', array([ 0.96078431,  0.96078431,  0.92156863,  0.96078431]))]\n"
     ]
    }
   ],
   "source": [
    "from sklearn import svm, datasets\n",
    "from sklearn.model_selection import GridSearchCV\n",
    "\n",
    "iris = datasets.load_iris()\n",
    "parameters = {'kernel':('linear', 'rbf'), 'C':[1, 10]}\n",
    "svr = svm.SVC()\n",
    "clf = GridSearchCV(svr, parameters)\n",
    "print clf.fit(iris.data, iris.target)\n",
    "print \"\"\n",
    "print clf.cv_results_.keys()\n",
    "print clf.cv_results_.items()"
   ]
  },
  {
   "cell_type": "markdown",
   "metadata": {},
   "source": [
    "http://discussions.youdaxue.com/t/grid-search/6079/2\n",
    "http://discussions.youdaxue.com/t/topic/13868"
   ]
  },
  {
   "cell_type": "code",
   "execution_count": null,
   "metadata": {
    "collapsed": true
   },
   "outputs": [],
   "source": []
  }
 ],
 "metadata": {
  "kernelspec": {
   "display_name": "Python 2",
   "language": "python",
   "name": "python2"
  },
  "language_info": {
   "codemirror_mode": {
    "name": "ipython",
    "version": 2
   },
   "file_extension": ".py",
   "mimetype": "text/x-python",
   "name": "python",
   "nbconvert_exporter": "python",
   "pygments_lexer": "ipython2",
   "version": "2.7.13"
  }
 },
 "nbformat": 4,
 "nbformat_minor": 1
}
