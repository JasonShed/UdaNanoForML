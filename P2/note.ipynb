{
 "cells": [
  {
   "cell_type": "markdown",
   "metadata": {},
   "source": [
    "### 监督学习\n",
    "从输出结果分类：\n",
    "- 离散输出结果：各个结果之间是不相关的，有区别的(distinct)\n",
    "例子：天气、邮件发件人、电话号码\n",
    "- 连续输出结果\n",
    "例子：收入、年龄\n",
    "\n",
    "截距（intercept）、斜率（slope）"
   ]
  },
  {
   "cell_type": "markdown",
   "metadata": {
    "collapsed": true
   },
   "source": [
    "### 减少线性回归的误差\n",
    "- OLS（Ordinary Least Squares，普通最小二乘法）\n",
    "\n",
    "\n",
    "\n",
    "### 回归中的R^2指标\n",
    "该指标描述了线性回归的拟合良好度。不受训练集中的数量多少影响\n",
    "- R^2值越接近1，拟合效果越好\n",
    "- R^2值越接近0，拟合效果越差"
   ]
  },
  {
   "cell_type": "markdown",
   "metadata": {},
   "source": [
    "### 内核回归和KNN（K Nearest Neighbor）\n",
    "- 前者：数据点的距离对每个最近的数据点的贡献（contribution）进行加权\n",
    "- 后者：每个考虑的数据点会获得同等加权"
   ]
  },
  {
   "cell_type": "markdown",
   "metadata": {},
   "source": [
    "### 回归和分类\n",
    "- 输出结果类型：前者是将某些输入映射到某些实际数字；后者是将某些输入映射到某些具有代表特性的离散值\n",
    "- 目的：前者是找出误差最小的拟合线；后者是找出决策边界，然后对样本加上类标签\n",
    "- 评估方式：前者是准确率（预测结果中有多少相关的）；后者是sum of squared error或R^2 \n",
    "\n",
    "根据输出结果（和输入无关）的类型判断分类（离散值）还是回归（连续值）\n"
   ]
  },
  {
   "cell_type": "markdown",
   "metadata": {
    "collapsed": true
   },
   "source": [
    "### 决策树\n",
    "决策树可表达性\n",
    "- AND（与）：属性都为True时结果True\n",
    "- OR（或）\n",
    "- XOR（异或）：两个属性不一致时结果True\n",
    "\n",
    "显然，XOR需要考虑的树的结点更多，而OR只需要其中一个属性为True就可以判断结果True，当属性数量扩大以后，OR的树结点增长速率是线性的（n个属性需要n个结点），XOR的增长速率是平方级别的（n个属性需要2^n个结点）\n",
    "对于n个属性，共有2^n个特征组合，output有True和False，所以有2^(2^n)个output。\n",
    "\n",
    "### ID3算法\n",
    "loop:\n",
    "    1.根据一些方法挑选出一个最佳属性（best attribute）\n",
    "    2.将此属性作为决策树结点\n",
    "    3.将符合此属性的训练样本分类到子叶中\n",
    "    4.if样本已经完美分类成功，停止该算法，否则轮流为分类到该子叶的训练案例挑选最佳属性\n",
    "    \n",
    "### ID3偏差\n",
    "- restriction bias（限定误差）\n",
    "- preference bias（优选误差）"
   ]
  },
  {
   "cell_type": "code",
   "execution_count": null,
   "metadata": {
    "collapsed": true
   },
   "outputs": [],
   "source": []
  }
 ],
 "metadata": {
  "kernelspec": {
   "display_name": "Python 2",
   "language": "python",
   "name": "python2"
  },
  "language_info": {
   "codemirror_mode": {
    "name": "ipython",
    "version": 2
   },
   "file_extension": ".py",
   "mimetype": "text/x-python",
   "name": "python",
   "nbconvert_exporter": "python",
   "pygments_lexer": "ipython2",
   "version": "2.7.13"
  }
 },
 "nbformat": 4,
 "nbformat_minor": 2
}
